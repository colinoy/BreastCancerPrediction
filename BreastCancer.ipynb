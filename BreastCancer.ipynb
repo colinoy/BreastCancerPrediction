{
 "cells": [
  {
   "cell_type": "code",
   "execution_count": null,
   "metadata": {},
   "outputs": [],
   "source": [
    "import pandas as pd \n",
    "import numpy as np \n",
    "import seaborn as sns \n",
    "import matplotlib.pyplot as plt \n",
    "from sklearn.model_selection import train_test_split\n",
    "from sklearn.preprocessing import StandardScaler \n",
    "from sklearn.linear_model import LogisticRegression\n",
    "from sklearn.metrics import confusion_matrix\n",
    "from sklearn.metrics import accuracy_score\n",
    "from sklearn.neighbors import KNeighborsClassifier\n",
    "from sklearn.metrics import ConfusionMatrixDisplay"
   ]
  },
  {
   "cell_type": "code",
   "execution_count": null,
   "metadata": {},
   "outputs": [],
   "source": [
    "\"\"\"\n",
    "In this notebook, we will be exploring the data of Breast Cancer (breast cancer wisconsin) and perform Exploratory Data Analysis (EDA) on it. \n",
    "moreover we will be performing some Machine Learning (ML) on the data. \n",
    "This problem is classifiecation problem where we are trying to predict whether a patient has cancer or not. \n",
    "\"\"\""
   ]
  },
  {
   "cell_type": "code",
   "execution_count": null,
   "metadata": {},
   "outputs": [],
   "source": [
    "data = pd.read_csv('data.csv')\n",
    "data.head()"
   ]
  },
  {
   "cell_type": "code",
   "execution_count": null,
   "metadata": {},
   "outputs": [],
   "source": [
    "data.drop(columns=[col for col in data.columns if col.startswith('Unnamed:')], inplace=True)\n",
    "\n",
    "data.head()"
   ]
  },
  {
   "cell_type": "code",
   "execution_count": null,
   "metadata": {},
   "outputs": [],
   "source": [
    "data.columns"
   ]
  },
  {
   "cell_type": "code",
   "execution_count": null,
   "metadata": {},
   "outputs": [],
   "source": [
    "#The info function is used to check if the data is missing or not and to see the data type of the column.\n",
    "data.info()"
   ]
  },
  {
   "cell_type": "code",
   "execution_count": null,
   "metadata": {},
   "outputs": [],
   "source": [
    "#The describe function is used to check the mean, standard deviation, min, max, etc. of the data.\n",
    "data.describe()"
   ]
  },
  {
   "cell_type": "code",
   "execution_count": null,
   "metadata": {},
   "outputs": [],
   "source": [
    "#we can see that there are no missing values in the dataframe\n",
    "data.isna().sum()"
   ]
  },
  {
   "cell_type": "code",
   "execution_count": null,
   "metadata": {},
   "outputs": [],
   "source": [
    "data.shape\n",
    "#meaning there are 569 rows and 32 columns in the dataframe, in our case we have 568 patients and 31 features."
   ]
  },
  {
   "cell_type": "code",
   "execution_count": null,
   "metadata": {},
   "outputs": [],
   "source": [
    "data['diagnosis'].value_counts()\n",
    "#we can see that there are only two classes in the data, namely, benign and malignant."
   ]
  },
  {
   "cell_type": "code",
   "execution_count": null,
   "metadata": {},
   "outputs": [],
   "source": [
    "#change the diagnosis column to numerical values for better analysis, we can either do that or using one-hot encoding technique.\n",
    "\"\"\"one hot encoding technique is used to convert categorical data to numerical data by creating a new column for each category and assigning 1 or 0 to each column.\n",
    "because we have onlt 2 classes, we don't need to use one-hot encoding technique, we can simply use the following code. \n",
    "\n",
    "if will decide to use one-hot encoding technique, we will have 2 new columns in our dataframe and becuse of something called the dummy variable trap, we have to drop one column of the dummy variable.\n",
    "meaning we will still have one column associated with the diagnosis column. \n",
    "(just wanted to show that we can use one-hot encoding technique and this technique and will get the same result as we did without using one-hot encoding technique)\"\"\"\n",
    "\n",
    "data['diagnosis'] = data['diagnosis'].map({'M':1, 'B':0})\n",
    "data['diagnosis'].head()"
   ]
  },
  {
   "cell_type": "code",
   "execution_count": null,
   "metadata": {},
   "outputs": [],
   "source": [
    "##check if we have object type \n",
    "\"\"\"since we don't have object columns, we don't need to encode them by using label encoding\"\"\"\n",
    "data.select_dtypes(include=['object']).columns"
   ]
  },
  {
   "cell_type": "markdown",
   "metadata": {},
   "source": [
    "Visualize the data using the following methods: \n",
    "1. Histogram\n",
    "2. Boxplot\n",
    "3. Scatterplot\n",
    "4. Correlation matrix using Heatmap\n",
    "5. Pairplot\n"
   ]
  },
  {
   "cell_type": "code",
   "execution_count": null,
   "metadata": {},
   "outputs": [],
   "source": [
    "#check how many observations are in each class (diagnosis)\n",
    "plt.figure(figsize=(10,5))\n",
    "sns.countplot(x='diagnosis', data=data)"
   ]
  },
  {
   "cell_type": "code",
   "execution_count": null,
   "metadata": {},
   "outputs": [],
   "source": [
    "plt.figure(figsize=(20,15))\n",
    "data_malignant = data.loc[data['diagnosis'] == 1]\n",
    "data_malignant.hist(bins=50, figsize=(20,15))\n",
    "\n",
    "\"\"\"\n",
    "Here we can see the distribution of the data. \n",
    "In most of the cases, the data is not normally distributed.\n",
    "\"\"\""
   ]
  },
  {
   "cell_type": "code",
   "execution_count": null,
   "metadata": {},
   "outputs": [],
   "source": [
    "\"\"\" Heatmap helps us to visualize the correlation between the variables. \n",
    "in this case, we choose only the malignant data to visualize the correlation between the variables.\n",
    "Heatmap is based on Pearson correlation coefficient. \n",
    "Pearson correlation coefficient is a statistical measure of the linear relationship between two variables. \n",
    "The Pearson correlation is also known simply as the correlation coefficient. The Pearson correlation coefficient can range from -1 to 1.\n",
    "\"\"\"\n",
    "plt.figure(figsize=(20,15))\n",
    "# data_malignant = data.loc[data['diagnosis'] == 1]\n",
    "sns.heatmap(data.corr(), annot=True)"
   ]
  },
  {
   "cell_type": "code",
   "execution_count": null,
   "metadata": {},
   "outputs": [],
   "source": [
    "#We want to check the correlation between the variables and the target variable.\n",
    "data.corrwith(data['diagnosis']).sort_values(ascending=False).head(10)"
   ]
  },
  {
   "cell_type": "code",
   "execution_count": null,
   "metadata": {},
   "outputs": [],
   "source": [
    "data.corrwith(data['diagnosis']).sort_values(ascending=False).head(10).plot.bar(figsize=(10,10), title='Correlation with target variable')\n"
   ]
  },
  {
   "cell_type": "code",
   "execution_count": null,
   "metadata": {},
   "outputs": [],
   "source": [
    "##pairplot to visualize the data. pair plot is a plot that shows the distribution of the data in all the variables. \n",
    "plt.figure(figsize=(10,10))\n",
    "cols = ['diagnosis', 'concave points_worst', 'perimeter_worst',\n",
    "    'concave points_mean', 'radius_worst', 'perimeter_mean', 'area_worst',\n",
    "    'radius_mean', 'area_mean', 'concavity_mean']\n",
    "sns.pairplot(data[cols], hue='diagnosis')"
   ]
  },
  {
   "cell_type": "code",
   "execution_count": null,
   "metadata": {},
   "outputs": [],
   "source": [
    "##implemtneting boxplot to visualize the data. \n",
    "cols = ['concave points_worst', 'perimeter_worst',\n",
    "    'concave points_mean', 'radius_worst', 'perimeter_mean', 'area_worst',\n",
    "    'radius_mean', 'area_mean', 'concavity_mean']\n",
    "plt.figure(figsize=(6,6))\n",
    "for col in cols:\n",
    "    sns.boxplot(x='diagnosis', y=col, data=data)\n",
    "    plt.title(col)\n",
    "    plt.show()"
   ]
  },
  {
   "cell_type": "markdown",
   "metadata": {},
   "source": [
    "Implementing Machine Learning Algorithms. \n",
    "\n",
    "We are going to solve classification problem using the following algorithms:\n",
    "\n",
    "\n",
    "1. K-Nearest Neighbors\n",
    "2. Logistic Regression\n",
    "3. Random Forest\n",
    "4. Support Vector Machine\n",
    "5. Naive Bayes \n",
    "6. Xgboost\n",
    "7. Neural Network\n"
   ]
  },
  {
   "cell_type": "code",
   "execution_count": null,
   "metadata": {},
   "outputs": [],
   "source": [
    "\"\"\"implemnting minmax scaler and standard scaler to normalize the data.\n",
    "The main idea behind feature scaling is to make the data more similar. The most common techniques of feature scaling are Normalization and Standardization.\n",
    "Variables that are measured at different scales do not contribute equally to the model fitting & model learned function and might end up creating a bias. \n",
    "Thus, to deal with this potential problem feature-wise normalization such as MinMax Scaling and StandardScaler is usually used prior to model fitting. \n",
    "The main idea behind minmax scaler is to scale the data to a range between 0 and 1 in order to make the data easier to learn.\n",
    "The main advantage of standard scaler is that it is robust to outliers. \n",
    "\"\"\"\n",
    "\n",
    "\n",
    "from sklearn.preprocessing import MinMaxScaler\n",
    "from sklearn.preprocessing import StandardScaler\n",
    "\n",
    "x = data.drop('diagnosis', axis=1)\n",
    "y = data['diagnosis']\n",
    "#we are splitting the data into train and test data, we will use train data to train the model and test data to test the model. \n",
    "scaler = MinMaxScaler()\n",
    "X_train, X_test, y_train, y_test = train_test_split(x, y, test_size= 0.2, random_state=42)\n",
    "#when we normalize the data, we have to do it after the train test split, becuase if not we will have a leak of information.\n",
    "# For example, it we are using minmax scaler before we split it into train and test data, \n",
    "# we might use the min and max of our test to normalize our train data, and that will lead to a leak of information. \n",
    "scaler.fit(X_train)\n",
    "X_scaled = scaler.transform(X_train) \n",
    "X_test_scaled = scaler.transform(X_test) \n",
    "X_train = pd.DataFrame(X_scaled, columns=x.columns)\n",
    "X_test = pd.DataFrame(X_test_scaled, columns=x.columns)\n",
    "\n",
    "#since we are in classification problem, we dont need to scale the target variable. "
   ]
  },
  {
   "cell_type": "code",
   "execution_count": 68,
   "metadata": {},
   "outputs": [
    {
     "name": "stdout",
     "output_type": "stream",
     "text": [
      "Accuracy: 0.974\n"
     ]
    }
   ],
   "source": [
    "\"\"\"implementing KNN algorithm to classify the data\n",
    "# Knn is a classification algorithm that uses the distance between the data points to classify the data.\n",
    "knn calculates the distance between the data points and assigns the class of the closest data point.\n",
    "# A total of 569 such samples are present in this data, out of which 357 are classified as\n",
    "# \"benign\" (harmless) and the rest 212 are classified as \"malignant\" (harmful). {'M':1, 'B':0})\"\"\"\n",
    "\n",
    "\n",
    "knn = KNeighborsClassifier(n_neighbors=4)\n",
    "knn.fit(X_train, y_train)\n",
    "pred_knn = knn.predict(X_test)\n",
    "acc = accuracy_score(y_test, pred_knn) \n",
    "print('Accuracy: %.3f' % acc)"
   ]
  },
  {
   "cell_type": "code",
   "execution_count": 69,
   "metadata": {},
   "outputs": [
    {
     "data": {
      "text/plain": [
       "<sklearn.metrics._plot.confusion_matrix.ConfusionMatrixDisplay at 0x7f8adc184bb0>"
      ]
     },
     "execution_count": 69,
     "metadata": {},
     "output_type": "execute_result"
    },
    {
     "data": {
      "image/png": "[encoded data removed]",
      "text/plain": [
       "<Figure size 432x288 with 2 Axes>"
      ]
     },
     "metadata": {
      "needs_background": "light"
     },
     "output_type": "display_data"
    }
   ],
   "source": [
    "\"\"\"confusion matrix to check the accuracy of the algorithm from a different perspective,\n",
    "the true positive, false positive, true negative and false negative\"\"\"\n",
    "cm = confusion_matrix(y_test, pred_knn, labels=knn.classes_)\n",
    "disp = ConfusionMatrixDisplay(confusion_matrix=cm,display_labels=knn.classes_)\n",
    "\"\"\"from the confusion martix we can see that we have 70 observation that we predicted to be benign (harmless) and they ended up being benign (harmless), \n",
    "# however we have 1 observation that we predicted to be malignant (harmful) and ended up bening benign (harmless)\n",
    "# Moreover we have 2 observation that we predicted to be benign (harmless) and ended up being malignant (harmful)\n",
    "# To sum up we have a total of 1 true negatives and a total of 2 false positives\"\"\"\n",
    "disp.plot()"
   ]
  },
  {
   "cell_type": "code",
   "execution_count": 70,
   "metadata": {},
   "outputs": [
    {
     "name": "stdout",
     "output_type": "stream",
     "text": [
      "     K  Test Score  Train Score\n",
      "0    1    0.813298     1.000000\n",
      "1    2    0.850639     0.959992\n",
      "2    3    0.875532     0.946656\n",
      "3    4    0.883311     0.929398\n",
      "4    5    0.871549     0.926950\n",
      "5    6    0.874495     0.918938\n",
      "6    7    0.865880     0.914701\n",
      "7    8    0.858223     0.910129\n",
      "8    9    0.863085     0.903655\n",
      "9   10    0.848772     0.899556\n",
      "10  11    0.849713     0.898239\n",
      "11  12    0.854528     0.890632\n",
      "12  13    0.858151     0.885643\n",
      "13  14    0.867975     0.886796\n",
      "14  15    0.873375     0.886869\n",
      "15  16    0.874997     0.883065\n"
     ]
    }
   ],
   "source": [
    "from sklearn.neighbors import KNeighborsRegressor\n",
    "\"\"\"\n",
    "At K=1, the KNN tends to closely follow the training data and thus shows a high training score. \n",
    "However, in comparison, the test score is quite low, thus indicating overfitting.\n",
    "We can see that the maximum score achives when the n_neighbors is 4 which is the best value for this data set.\n",
    "\"\"\"\n",
    "\n",
    "knn_r_acc = []\n",
    "for i in range(1,17,1):\n",
    "    knn = KNeighborsRegressor(n_neighbors=i)\n",
    "    knn.fit(X_train,y_train)\n",
    "    test_score = knn.score(X_test,y_test)\n",
    "    train_score = knn.score(X_train,y_train)\n",
    "    knn_r_acc.append((i, test_score ,train_score))\n",
    "df = pd.DataFrame(knn_r_acc, columns=['K','Test Score','Train Score'])\n",
    "print(df)"
   ]
  },
  {
   "cell_type": "code",
   "execution_count": 71,
   "metadata": {},
   "outputs": [
    {
     "name": "stdout",
     "output_type": "stream",
     "text": [
      "0.9824561403508771\n"
     ]
    },
    {
     "data": {
      "text/plain": [
       "<sklearn.metrics._plot.confusion_matrix.ConfusionMatrixDisplay at 0x7f8adbe61490>"
      ]
     },
     "execution_count": 71,
     "metadata": {},
     "output_type": "execute_result"
    },
    {
     "data": {
      "image/png": "[encoded data removed]",
      "text/plain": [
       "<Figure size 432x288 with 2 Axes>"
      ]
     },
     "metadata": {
      "needs_background": "light"
     },
     "output_type": "display_data"
    }
   ],
   "source": [
    "\"\"\"implemting logistic regression\n",
    "logistic regression is a classification algorithm that uses the logistic function to classify the data.\n",
    "in this case, the logistic function is used to calculate the probability of the being benign (harmless) or malignant (harmful).\n",
    "\"\"\"\n",
    "\n",
    "lr = LogisticRegression()\n",
    "lr.fit(X_train, y_train)\n",
    "pred_lr = lr.predict(X_test)\n",
    "print(accuracy_score(y_test, pred_lr))\n",
    "\n",
    "cm = confusion_matrix(y_test, pred_lr, labels=lr.classes_)\n",
    "disp = ConfusionMatrixDisplay(confusion_matrix=cm,display_labels=lr.classes_)\n",
    "disp.plot()\n"
   ]
  },
  {
   "cell_type": "code",
   "execution_count": null,
   "metadata": {},
   "outputs": [],
   "source": [
    "\"\"\"Feature importance \n",
    "Feature Importance refers to techniques that calculate a score for all the input features for a given model. \n",
    "the scores simply represent the “importance” of each feature. A higher score means that the specific feature will have a larger effect on the model that is being used to predict a certain variable.\n",
    "\n",
    "one of the many ways to check feature importance is to check to coeffiecients of the model.\n",
    "For example, both linear and logistic regression algorithms have a coeffiecient that represents the weight of each feature. \n",
    "for each feature if an assigned coefficient is a large (negative or positive) number, it has some influence on the prediction.\n",
    "On the contrary, if the coefficient is zero, it doesn't have any impact on the prediction.\n",
    "\"\"\"\n",
    "\n",
    "from sklearn.inspection import permutation_importance\n",
    "from sklearn.metrics import r2_score # r2_score is a function that calculates the r2 score of the model\n",
    "\n",
    "feutre_importance = permutation_importance(lr, X_test, y_test, n_repeats=10, random_state=42)\n",
    "importances = pd.DataFrame(data={\n",
    "    'Attribute': X_train.columns,\n",
    "    'Importance': lr.coef_[0]\n",
    "})\n",
    "\n",
    "\n",
    "importances = importances.sort_values(by='Importance', ascending=False)\n",
    "plt.bar(x=importances['Attribute'], height=importances['Importance'], color='#087E8B')\n",
    "plt.title('Feature importances obtained from coefficients', size=20)\n",
    "plt.xticks(rotation='vertical')\n",
    "plt.show()"
   ]
  },
  {
   "cell_type": "code",
   "execution_count": 72,
   "metadata": {},
   "outputs": [
    {
     "name": "stdout",
     "output_type": "stream",
     "text": [
      "0.9649122807017544\n"
     ]
    },
    {
     "data": {
      "text/plain": [
       "<sklearn.metrics._plot.confusion_matrix.ConfusionMatrixDisplay at 0x7f8adc03b1c0>"
      ]
     },
     "execution_count": 72,
     "metadata": {},
     "output_type": "execute_result"
    },
    {
     "data": {
      "image/png": "[encoded data removed]",
      "text/plain": [
       "<Figure size 432x288 with 2 Axes>"
      ]
     },
     "metadata": {
      "needs_background": "light"
     },
     "output_type": "display_data"
    }
   ],
   "source": [
    "\"\"\"\n",
    "implemting the random forest algorithm. \n",
    "Randon Forest is a classification algorithm that uses the decision trees to classify the data.\n",
    "Random Forest is a meta-algorithm that combines decision trees to create a strong classifier.\n",
    "Random forest, consists of a large number of individual decision trees that operate as an ensemble. \n",
    "Each individual tree in the random forest spits out a class prediction and the class with the most votes becomes our model's prediction \n",
    "\"\"\"\n",
    "##import the random forest algorithm\n",
    "from sklearn.ensemble import RandomForestClassifier\n",
    "from sklearn.metrics import classification_report \n",
    "\n",
    "rf = RandomForestClassifier(n_estimators=50, max_depth=5)\n",
    "\"\"\"n_estimators is the number of trees that we want to create\n",
    "max_depth is the maximum depth of the tree, the higher the depth the more complex the tree will be, in this case we set it to 5. \n",
    "max_depth should not be set to a very large value, otherwise the tree will be very complex and will not be able to learn a+/nything, and will might cause overfitting\n",
    "#it's import to notice that our data is scaled using minmax scaler\"\"\"\n",
    "\n",
    "rf.fit(X_train, y_train)\n",
    "pred_rf = rf.predict(X_test)\n",
    "print(accuracy_score(y_test, pred_rf))\n",
    "\n",
    "##the results are slightly worse than the results of the logistic regression algorithm, but much better than the results of the KNN algorithm\n",
    "##let's look at the confusion matrix\n",
    "\n",
    "cm = confusion_matrix(y_test, pred_rf, labels=rf.classes_)\n",
    "disp = ConfusionMatrixDisplay(confusion_matrix=cm,display_labels=rf.classes_)\n",
    "disp.plot()"
   ]
  },
  {
   "cell_type": "code",
   "execution_count": null,
   "metadata": {},
   "outputs": [],
   "source": [
    "#implemnting grid search for the random forest algorithm \n",
    "from sklearn.model_selection import GridSearchCV \n",
    "\n",
    "\"\"\" using grid search to find the best parameters for the random forest algorithm. \n",
    "grid search is a method that tries different combinations of parameters to find the best one. Here we are trying to find the best parameters for the random forest algorithm.\n",
    "We will be using the GridSearchCV class from Scikit-learn which accepts possible values for desired hyperparameters and fits separate models on the given data for each combination of hyperparameters. \n",
    "\"\"\"\n",
    "\n",
    "grid_cv = GridSearchCV(estimator=rf, param_grid={'n_estimators': [10, 50, 100], 'max_depth': [3, 5, 7]}, scoring='accuracy', cv=2, n_jobs=3)\n",
    "#n_jobs is the number of jobs to run in parallel, -1 means all available CPUs\n",
    "#cv is the number of folds that we want to use for the cross validation \n",
    "\n",
    "#since it takes a long time to run, we will be using few options to speed up the process (n_jobs, cv)"
   ]
  },
  {
   "cell_type": "code",
   "execution_count": null,
   "metadata": {},
   "outputs": [],
   "source": [
    "# print(grid_cv.best_params_) #the best parameters for the random forest algorithm \n",
    "# print(grid_cv.best_score_) #the best score for the random forest algorithm"
   ]
  },
  {
   "cell_type": "code",
   "execution_count": null,
   "metadata": {},
   "outputs": [],
   "source": [
    "print(classification_report(y_test, pred_rf)) "
   ]
  },
  {
   "cell_type": "code",
   "execution_count": null,
   "metadata": {},
   "outputs": [],
   "source": [
    "##Random Forest feature importance \n",
    "\n",
    "from sklearn.inspection import permutation_importance \n",
    "from sklearn.metrics import r2_score\n",
    "\n",
    "results = permutation_importance(rf, X_test, y_test, n_repeats=10, random_state=42)\n",
    "forest_importances = pd.Series(results.importances_mean, index=X_train.columns)\n",
    "\n",
    "forest_importances.nlargest(8).plot(kind='barh', color='#087E8B')"
   ]
  },
  {
   "cell_type": "code",
   "execution_count": 73,
   "metadata": {},
   "outputs": [
    {
     "name": "stdout",
     "output_type": "stream",
     "text": [
      "[12:56:00] WARNING: ../src/learner.cc:1115: Starting in XGBoost 1.3.0, the default evaluation metric used with the objective 'binary:logistic' was changed from 'error' to 'logloss'. Explicitly set eval_metric if you'd like to restore the old behavior.\n",
      "0.9473684210526315\n"
     ]
    },
    {
     "data": {
      "text/plain": [
       "<sklearn.metrics._plot.confusion_matrix.ConfusionMatrixDisplay at 0x7f8ad5a666d0>"
      ]
     },
     "execution_count": 73,
     "metadata": {},
     "output_type": "execute_result"
    },
    {
     "data": {
      "image/png": "[encoded data removed]",
      "text/plain": [
       "<Figure size 432x288 with 2 Axes>"
      ]
     },
     "metadata": {
      "needs_background": "light"
     },
     "output_type": "display_data"
    }
   ],
   "source": [
    "from xgboost import XGBClassifier\n",
    "\n",
    "\"\"\"\n",
    "Implemting the XGBoost algorithm. \n",
    "XGBoost is a gradient boosting algorithm that uses decision trees to train the model.\n",
    "XGBoost is an ensemble learning algorithm meaning that it combines the results of many models, called base learners to make a prediction.\n",
    "Just like in Random Forests, XGBoost uses Decision Trees as base learners. \n",
    "\"\"\"\n",
    "\n",
    "xgb = XGBClassifier(use_label_encoder=False, learning_rate=0.1, n_estimators=100, max_depth=5)\n",
    "#learning_rate is the learning rate of the gradient descent algorithm\n",
    "#use_label_encoder is a boolean that indicates whether to use the label encoder or not\n",
    "\n",
    "xgb.fit(X_train, y_train)\n",
    "pred_xbg = xgb.predict(X_test)\n",
    "print(accuracy_score(y_test, pred_xbg))\n",
    "\n",
    "cm = confusion_matrix(y_test, pred_xbg, labels=xgb.classes_)\n",
    "disp = ConfusionMatrixDisplay(confusion_matrix=cm,display_labels=xgb.classes_)\n",
    "disp.plot()\n"
   ]
  },
  {
   "cell_type": "code",
   "execution_count": null,
   "metadata": {},
   "outputs": [],
   "source": [
    "\"\"\" using grid search to find the best parameters for the Xgb model. \n",
    "grid search is a method that tries different combinations of parameters to find the best one. Here we are trying to find the best parameters for the XGBoost model.\n",
    "We will be using the GridSearchCV class from Scikit-learn which accepts possible values for desired hyperparameters and fits separate models on the given data for each combination of hyperparameters. \n",
    "\"\"\"\n",
    "\n",
    "param_grid = {\n",
    "    \"max_depth\": [3, 4, 5, 7],\n",
    "    \"learning_rate\": [0.1, 0.01, 0.05],\n",
    "    \"gamma\": [0, 0.25, 1],\n",
    "    \"reg_lambda\": [0, 1, 10],\n",
    "    \"scale_pos_weight\": [1, 3, 5],\n",
    "    \"subsample\": [0.8],\n",
    "    \"colsample_bytree\": [0.5],\n",
    "} \n",
    "\n",
    "from sklearn.model_selection import GridSearchCV\n",
    "\n",
    "# Init classifier\n",
    "xgb_cl = XGBClassifier(objective=\"binary:logistic\")\n",
    "\n",
    "# Init Grid Search\n",
    "grid_cv = GridSearchCV(xgb_cl, param_grid, n_jobs=4, cv=2, scoring=\"roc_auc\")\n",
    "\n",
    "# Fit\n",
    "_ = grid_cv.fit(X_train, y_train)\n",
    "\n",
    "print(grid_cv.best_params_)\n",
    "\n",
    "\"\"\"\n",
    "We can see that using the best parameters we got from the grid search, we get an accuracy of 0.993, improving our model a lot.\n",
    "\"\"\"\n",
    "\n",
    "print(grid_cv.best_score_)\n",
    "\n"
   ]
  },
  {
   "cell_type": "code",
   "execution_count": 74,
   "metadata": {},
   "outputs": [
    {
     "name": "stdout",
     "output_type": "stream",
     "text": [
      "0.956140350877193\n"
     ]
    },
    {
     "data": {
      "text/plain": [
       "<sklearn.metrics._plot.confusion_matrix.ConfusionMatrixDisplay at 0x7f8adc2c85e0>"
      ]
     },
     "execution_count": 74,
     "metadata": {},
     "output_type": "execute_result"
    },
    {
     "data": {
      "image/png": "[encoded data removed]",
      "text/plain": [
       "<Figure size 432x288 with 2 Axes>"
      ]
     },
     "metadata": {
      "needs_background": "light"
     },
     "output_type": "display_data"
    }
   ],
   "source": [
    "\"\"\"\n",
    "Implementing Support Vector Machine.\n",
    "Support Vector Machines are supervised learning models for classification and regression problems.\n",
    "They can solve linear and non-linear problems and work well for many practical problems.\n",
    "The idea of this model is to find a hyperplane that separates the data into two classes,\n",
    "and then to classify new data points based on the distance to the hyperplane. \n",
    "The goal of the line is to maximizing the margin between the points on either side of the so called decision line (the hyperplane) \n",
    "so that the points on the one side of the line are more likely to be classified as belonging to the positive class, and the points on the other side are more likely to be classified as belonging to the negative class.\n",
    "\"\"\"\n",
    "\n",
    "from sklearn.svm import SVC #Support Vector Classifier \n",
    "sv = SVC(kernel='rbf', C=1, gamma=0.1)\n",
    "#kernel is the type of kernel function to use in the algorithm. \n",
    "#C is the penalty parameter of the error term. \n",
    "#gamma is the parameter of the kernel function. \n",
    "sv.fit(X_train, y_train)\n",
    "pred_svc = sv.predict(X_test) \n",
    "\n",
    "\n",
    "print(accuracy_score(y_test, pred_svc))\n",
    "\n",
    "cm = confusion_matrix(y_test, pred_svc, labels=sv.classes_)\n",
    "disp = ConfusionMatrixDisplay(confusion_matrix=cm,display_labels=sv.classes_)\n",
    "disp.plot()\n"
   ]
  },
  {
   "cell_type": "code",
   "execution_count": null,
   "metadata": {},
   "outputs": [],
   "source": [
    "##implemnting grid search for the support vector machine algorithm \n",
    "\n",
    "grid_cv = GridSearchCV(estimator=sv, param_grid={'C': [0.1, 1, 10, 100, 1000], 'gamma': [0.1, 0.01, 0.001, 0.0001, 0.00001], 'kernel': ['linear', 'rbf']},  scoring='accuracy', cv=10)\n",
    "#scoring is the metric used to evaluate the model. \n",
    "grid_cv.fit(X_train, y_train)\n",
    "\n",
    "print(grid_cv.best_params_) #the best parameters for the support vector machine algorithm\n",
    "print(grid_cv.best_score_) #the best score for the support vector machine algorithm"
   ]
  },
  {
   "cell_type": "code",
   "execution_count": 75,
   "metadata": {},
   "outputs": [
    {
     "name": "stdout",
     "output_type": "stream",
     "text": [
      "0.9649122807017544\n"
     ]
    }
   ],
   "source": [
    "\"\"\"\n",
    "implemting naive bayes classifier. \n",
    "naive bayes classifier is a simple classifier that assumes that the features are independent of each other. \n",
    "A Naive Bayes classifier is a probabilistic machine learning model base on Bayes theorem.\n",
    "\"\"\"\n",
    "\n",
    "from sklearn.naive_bayes import GaussianNB \n",
    "naive = GaussianNB()\n",
    "naive.fit(X_train, y_train)\n",
    "pred_naive = naive.predict(X_test)\n",
    "print(accuracy_score(y_test, pred_naive))"
   ]
  },
  {
   "cell_type": "code",
   "execution_count": 84,
   "metadata": {},
   "outputs": [
    {
     "name": "stdout",
     "output_type": "stream",
     "text": [
      "Epoch 1/50\n",
      "46/46 [==============================] - 1s 3ms/step - loss: 0.6471 - accuracy: 0.6353\n",
      "Epoch 2/50\n",
      "46/46 [==============================] - 0s 5ms/step - loss: 0.4143 - accuracy: 0.8520\n",
      "Epoch 3/50\n",
      "46/46 [==============================] - 0s 3ms/step - loss: 0.2480 - accuracy: 0.9078\n",
      "Epoch 4/50\n",
      "46/46 [==============================] - 0s 4ms/step - loss: 0.2229 - accuracy: 0.8955\n",
      "Epoch 5/50\n",
      "46/46 [==============================] - 0s 2ms/step - loss: 0.1619 - accuracy: 0.9327\n",
      "Epoch 6/50\n",
      "46/46 [==============================] - 0s 2ms/step - loss: 0.1434 - accuracy: 0.9530\n",
      "Epoch 7/50\n",
      "46/46 [==============================] - 0s 2ms/step - loss: 0.1305 - accuracy: 0.9512\n",
      "Epoch 8/50\n",
      "46/46 [==============================] - 0s 2ms/step - loss: 0.1066 - accuracy: 0.9656\n",
      "Epoch 9/50\n",
      "46/46 [==============================] - 0s 2ms/step - loss: 0.1134 - accuracy: 0.9606\n",
      "Epoch 10/50\n",
      "46/46 [==============================] - 0s 2ms/step - loss: 0.0817 - accuracy: 0.9781\n",
      "Epoch 11/50\n",
      "46/46 [==============================] - 0s 2ms/step - loss: 0.0688 - accuracy: 0.9876\n",
      "Epoch 12/50\n",
      "46/46 [==============================] - 0s 1ms/step - loss: 0.0746 - accuracy: 0.9802\n",
      "Epoch 13/50\n",
      "46/46 [==============================] - 0s 1ms/step - loss: 0.0603 - accuracy: 0.9870\n",
      "Epoch 14/50\n",
      "46/46 [==============================] - 0s 4ms/step - loss: 0.0610 - accuracy: 0.9845\n",
      "Epoch 15/50\n",
      "46/46 [==============================] - 0s 2ms/step - loss: 0.0831 - accuracy: 0.9744\n",
      "Epoch 16/50\n",
      "46/46 [==============================] - 0s 4ms/step - loss: 0.0710 - accuracy: 0.9844\n",
      "Epoch 17/50\n",
      "46/46 [==============================] - 0s 2ms/step - loss: 0.0669 - accuracy: 0.9821\n",
      "Epoch 18/50\n",
      "46/46 [==============================] - 0s 4ms/step - loss: 0.0554 - accuracy: 0.9816\n",
      "Epoch 19/50\n",
      "46/46 [==============================] - 0s 2ms/step - loss: 0.0512 - accuracy: 0.9865\n",
      "Epoch 20/50\n",
      "46/46 [==============================] - 0s 2ms/step - loss: 0.0641 - accuracy: 0.9709\n",
      "Epoch 21/50\n",
      "46/46 [==============================] - 0s 2ms/step - loss: 0.0554 - accuracy: 0.9811\n",
      "Epoch 22/50\n",
      "46/46 [==============================] - 0s 2ms/step - loss: 0.0553 - accuracy: 0.9818\n",
      "Epoch 23/50\n",
      "46/46 [==============================] - 0s 2ms/step - loss: 0.0572 - accuracy: 0.9817\n",
      "Epoch 24/50\n",
      "46/46 [==============================] - 0s 2ms/step - loss: 0.0605 - accuracy: 0.9761\n",
      "Epoch 25/50\n",
      "46/46 [==============================] - 0s 3ms/step - loss: 0.0300 - accuracy: 0.9946\n",
      "Epoch 26/50\n",
      "46/46 [==============================] - 0s 2ms/step - loss: 0.0504 - accuracy: 0.9831\n",
      "Epoch 27/50\n",
      "46/46 [==============================] - 0s 2ms/step - loss: 0.0329 - accuracy: 0.9894\n",
      "Epoch 28/50\n",
      "46/46 [==============================] - 0s 2ms/step - loss: 0.0463 - accuracy: 0.9909\n",
      "Epoch 29/50\n",
      "46/46 [==============================] - 0s 3ms/step - loss: 0.0408 - accuracy: 0.9880\n",
      "Epoch 30/50\n",
      "46/46 [==============================] - 0s 4ms/step - loss: 0.0659 - accuracy: 0.9659\n",
      "Epoch 31/50\n",
      "46/46 [==============================] - 0s 2ms/step - loss: 0.0358 - accuracy: 0.9917\n",
      "Epoch 32/50\n",
      "46/46 [==============================] - 0s 2ms/step - loss: 0.0531 - accuracy: 0.9861\n",
      "Epoch 33/50\n",
      "46/46 [==============================] - 0s 5ms/step - loss: 0.0378 - accuracy: 0.9894\n",
      "Epoch 34/50\n",
      "46/46 [==============================] - 0s 2ms/step - loss: 0.0521 - accuracy: 0.9819\n",
      "Epoch 35/50\n",
      "46/46 [==============================] - 0s 2ms/step - loss: 0.0316 - accuracy: 0.9942\n",
      "Epoch 36/50\n",
      "46/46 [==============================] - 0s 2ms/step - loss: 0.0525 - accuracy: 0.9847\n",
      "Epoch 37/50\n",
      "46/46 [==============================] - 0s 3ms/step - loss: 0.0505 - accuracy: 0.9896\n",
      "Epoch 38/50\n",
      "46/46 [==============================] - 0s 2ms/step - loss: 0.0615 - accuracy: 0.9771\n",
      "Epoch 39/50\n",
      "46/46 [==============================] - 0s 2ms/step - loss: 0.0583 - accuracy: 0.9873\n",
      "Epoch 40/50\n",
      "46/46 [==============================] - 0s 2ms/step - loss: 0.0400 - accuracy: 0.9838\n",
      "Epoch 41/50\n",
      "46/46 [==============================] - 0s 5ms/step - loss: 0.0341 - accuracy: 0.9856\n",
      "Epoch 42/50\n",
      "46/46 [==============================] - 0s 2ms/step - loss: 0.0208 - accuracy: 0.9970\n",
      "Epoch 43/50\n",
      "46/46 [==============================] - 0s 3ms/step - loss: 0.0355 - accuracy: 0.9895\n",
      "Epoch 44/50\n",
      "46/46 [==============================] - 0s 2ms/step - loss: 0.0386 - accuracy: 0.9875\n",
      "Epoch 45/50\n",
      "46/46 [==============================] - 0s 2ms/step - loss: 0.0344 - accuracy: 0.9916\n",
      "Epoch 46/50\n",
      "46/46 [==============================] - 0s 2ms/step - loss: 0.0226 - accuracy: 0.9962\n",
      "Epoch 47/50\n",
      "46/46 [==============================] - 0s 3ms/step - loss: 0.0641 - accuracy: 0.9714\n",
      "Epoch 48/50\n",
      "46/46 [==============================] - 0s 2ms/step - loss: 0.0239 - accuracy: 0.9900\n",
      "Epoch 49/50\n",
      "46/46 [==============================] - 0s 2ms/step - loss: 0.0286 - accuracy: 0.9876\n",
      "Epoch 50/50\n",
      "46/46 [==============================] - 0s 2ms/step - loss: 0.0302 - accuracy: 0.9915\n"
     ]
    },
    {
     "data": {
      "text/plain": [
       "<tensorflow.python.keras.callbacks.History at 0x7f8add1204f0>"
      ]
     },
     "execution_count": 84,
     "metadata": {},
     "output_type": "execute_result"
    }
   ],
   "source": [
    "\"\"\"\n",
    "Implemtning Neural Network. \n",
    "Neural Networks are a type of artificial neural network, which is a type of artificial neural network that is based on the idea of a network of neurons.\n",
    "The neurons are connected by a weight matrix, which is a matrix of weights that connect the neurons. \n",
    "each neuron is connected to all the other neurons in the network, and the weights are updated based on the error of the output of the neuron. \n",
    "each neuron has activation function, which is a function that maps the input to the output. \n",
    "we are going to use Neural Network for classification problems, however today Neural Network is used for both classification and regression problems.\n",
    "we will be using the Keras library to implement the Neural Network. \n",
    "\"\"\"\n",
    "#importing the Keras library\n",
    "import keras\n",
    "import tensorflow as tf\n",
    "\n",
    "from keras.models import Sequential\n",
    "from keras.layers import Dense\n",
    "from keras.wrappers.scikit_learn import KerasClassifier\n",
    "\n",
    "model = Sequential()\n",
    "\n",
    "model.add(Dense(units=100, activation='relu', input_shape=(X_train.shape[1],)))\n",
    "model.add(Dense(units=100, activation='relu'))\n",
    "model.add(Dense(units=1, activation='sigmoid'))\n",
    "\n",
    "#relu is the rectified linear unit function, which is a function that returns the max of 0 and the input. \n",
    "#sigmod refers to the sigmoid function, which is a function that maps the input to the output. \n",
    "\n",
    "optemizer = keras.optimizers.Adam(lr=0.001) \n",
    "#lr is the learning rate, which is the step size of the gradient descent algorithm. \n",
    "#adam optimizer is a stochastic gradient descent algorithm. \n",
    "\n",
    "model.compile(optimizer=optemizer, loss='binary_crossentropy', metrics=['accuracy'])\n",
    "#loss is the loss function, which is the function that measures the difference between the output and the expected output. \n",
    "#binary_crossentropy is the loss function for binary classification. \n",
    "#matrics is the list of metrics to be used to evaluate the model, which is the function that measures the performance of the model.\n",
    "\n",
    "model.fit(X_train, y_train, epochs=50, batch_size=10)"
   ]
  },
  {
   "cell_type": "code",
   "execution_count": 85,
   "metadata": {},
   "outputs": [
    {
     "name": "stdout",
     "output_type": "stream",
     "text": [
      "4/4 [==============================] - 0s 3ms/step - loss: 0.0634 - accuracy: 0.9649\n",
      " Model loss on the test set: 0.06338843703269958\n",
      " Model accuracy on the test set: 96.49122953414917\n"
     ]
    }
   ],
   "source": [
    "loss, accuracy = model.evaluate(X_test, y_test)\n",
    "print(f' Model loss on the test set: {loss}')\n",
    "print(f' Model accuracy on the test set: {100*accuracy}')"
   ]
  },
  {
   "cell_type": "code",
   "execution_count": 86,
   "metadata": {},
   "outputs": [
    {
     "data": {
      "text/plain": [
       "<sklearn.metrics._plot.confusion_matrix.ConfusionMatrixDisplay at 0x7f8add277fd0>"
      ]
     },
     "execution_count": 86,
     "metadata": {},
     "output_type": "execute_result"
    },
    {
     "data": {
      "image/png": "[encoded data removed]",
      "text/plain": [
       "<Figure size 432x288 with 2 Axes>"
      ]
     },
     "metadata": {
      "needs_background": "light"
     },
     "output_type": "display_data"
    }
   ],
   "source": [
    "#predicting the test set \n",
    "\n",
    "pred_nn = model.predict(X_test) \n",
    "#plot the confusion matrix \n",
    "cm = confusion_matrix(y_test, pred_nn.round())\n",
    "disp = ConfusionMatrixDisplay(confusion_matrix=cm)\n",
    "disp.plot()\n"
   ]
  },
  {
   "cell_type": "code",
   "execution_count": 87,
   "metadata": {},
   "outputs": [
    {
     "name": "stdout",
     "output_type": "stream",
     "text": [
      "Model: \"sequential_5\"\n",
      "_________________________________________________________________\n",
      "Layer (type)                 Output Shape              Param #   \n",
      "=================================================================\n",
      "dense_15 (Dense)             (None, 100)               3200      \n",
      "_________________________________________________________________\n",
      "dense_16 (Dense)             (None, 100)               10100     \n",
      "_________________________________________________________________\n",
      "dense_17 (Dense)             (None, 1)                 101       \n",
      "=================================================================\n",
      "Total params: 13,401\n",
      "Trainable params: 13,401\n",
      "Non-trainable params: 0\n",
      "_________________________________________________________________\n",
      "None\n"
     ]
    }
   ],
   "source": [
    "\"\"\" summary of the model \"\"\"\n",
    "\n",
    "summary = model.summary() #summary of the model\n",
    "print(summary)"
   ]
  },
  {
   "cell_type": "code",
   "execution_count": 89,
   "metadata": {},
   "outputs": [
    {
     "name": "stdout",
     "output_type": "stream",
     "text": [
      "The scores of the models are:\n",
      "Accuracy of k-nearest neighbors (k-NN): 0.974\n",
      "Accuracy of support vector machine (SVM): 0.956\n",
      "Accuracy of naive bayes classifier: 0.965\n",
      "Accuracy of logistic regression: 0.982\n",
      "Accuracy of Random Forest: 0.965\n",
      "Accuracy of XGB: 0.947\n",
      "Accuracy of neural network: 0.965\n"
     ]
    }
   ],
   "source": [
    "\"\"\"_summary_\n",
    "In this work, we have used the following libraries: \n",
    "1. pandas, which is a library for data manipulation and analysis. \n",
    "2. numpy, which is a library for scientific computing and high-level mathematical functions.\n",
    "3. matplotlib, which is a library for plotting graphs.\n",
    "4. seaborn, which is a library for statistical data visualization.\n",
    "5. sklearn, uses the machine learning algorithms to train and test the model. \n",
    "6. keras, which is a library for building deep learning models.\n",
    "7. tensorflow, deep learning library uses for building neural networks. \n",
    "\n",
    "First, we uses the pandas library to read the data and store it in a dataframe, then we uses the info and describe functions to get some information about the data. \n",
    "we learn and clean the data using descriptive statistics and visualizations (in this case, we use the seaborn and matplotlib library to plot the data).\n",
    "We also uses preprocessing techniques such as scaling and normalization, we didnt need to use onehotencodeing because we didnt have any categorical variables (other then the target variable).\n",
    "later on, we use the machine learning algorithms to train and test the model. \n",
    "The machine learning algorithms are used to train the model to predict the output of the data, in this case, the output is the class of the breast cancer classification.\n",
    "All the models we use were classification models, since our traget variable is binary, and this is a classification problem.\n",
    "\n",
    "We implement the following machine learning algorithms:\n",
    "\n",
    "1. k-nearest neighbors (k-NN). this is a classification algorithm that uses the distance between the test data and the training data to predict the class of the test data. \n",
    "2. support vector machine (SVM). this is a classification algorithm that uses a linear decision boundary to predict the class of the test data. \n",
    "3. naive bayes classifier. this is a classification algorithm that uses a Gaussian distribution to predict the class of the test data. \n",
    "4. logistic regression. this is a classification algorithm that uses a logistic regression function to predict the class of the test data.\n",
    "5. neural network. this is a algorithm that uses a neural network to predict the class of the test data.\n",
    "6. random forest. this is a classification algorithm that uses a random forest to predict the class of the test data.\n",
    "7. xgb (Extreme Gradient Boosting). this is a classification algorithm that uses a gradient boosting algorithm to predict the class of the test data. \n",
    "\n",
    "\n",
    "At the end of each algorithm, we plot the confusion matrix to evaluate the model.\n",
    "\"\"\"\n",
    "\n",
    "print(\"The scores of the models are:\") \n",
    "\n",
    "print('Accuracy of k-nearest neighbors (k-NN): %.3f' % accuracy_score(y_test, pred_knn))\n",
    "print('Accuracy of support vector machine (SVM): %.3f' % accuracy_score(y_test, pred_svc))\n",
    "print('Accuracy of naive bayes classifier: %.3f' % accuracy_score(y_test, pred_naive))\n",
    "print('Accuracy of logistic regression: %.3f' % accuracy_score(y_test, pred_lr))\n",
    "print('Accuracy of Random Forest: %.3f' % accuracy_score(y_test, pred_rf))\n",
    "print('Accuracy of XGB: %.3f' % accuracy_score(y_test, pred_xbg))\n",
    "print('Accuracy of neural network: %.3f' % accuracy_score(y_test, pred_nn.round()))\n"
   ]
  },
  {
   "cell_type": "code",
   "execution_count": null,
   "metadata": {},
   "outputs": [],
   "source": []
  }
 ],
 "metadata": {
  "kernelspec": {
   "display_name": "Python 3.8.2 ('base')",
   "language": "python",
   "name": "python3"
  },
  "language_info": {
   "codemirror_mode": {
    "name": "ipython",
    "version": 3
   },
   "file_extension": ".py",
   "mimetype": "text/x-python",
   "name": "python",
   "nbconvert_exporter": "python",
   "pygments_lexer": "ipython3",
   "version": "3.8.2"
  },
  "orig_nbformat": 4,
  "vscode": {
   "interpreter": {
    "hash": "a8c1b48c592bacb2905badfad8902855b75c6dd6980ebe98914499aa3e1a467d"
   }
  }
 },
 "nbformat": 4,
 "nbformat_minor": 2
}
